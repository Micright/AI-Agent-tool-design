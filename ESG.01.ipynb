{
 "cells": [
  {
   "cell_type": "code",
   "execution_count": 1,
   "id": "6c55aff1-19ef-4160-8554-eee957a8f443",
   "metadata": {},
   "outputs": [],
   "source": [
    "import warnings\n",
    "warnings.filterwarnings(\"ignore\", category=DeprecationWarning)\n"
   ]
  },
  {
   "cell_type": "code",
   "execution_count": 2,
   "id": "0f447ae8-210d-40af-ac1a-c4973cda69d5",
   "metadata": {},
   "outputs": [],
   "source": [
    "import warnings\n",
    "warnings.filterwarnings(\"ignore\", category=UserWarning)\n"
   ]
  },
  {
   "cell_type": "code",
   "execution_count": 3,
   "id": "e64f71a7-a501-4c6b-bb6b-6d1770f157f6",
   "metadata": {},
   "outputs": [],
   "source": [
    "from crewai import Agent, Task, Crew "
   ]
  },
  {
   "cell_type": "code",
   "execution_count": 4,
   "id": "2b2d00aa-e72e-4a10-ac7f-4813708a8235",
   "metadata": {},
   "outputs": [],
   "source": [
    "import openai"
   ]
  },
  {
   "cell_type": "code",
   "execution_count": 5,
   "id": "30653e22-6235-400f-a9c2-c3c81f5a7510",
   "metadata": {},
   "outputs": [],
   "source": [
    "import pandas as pd"
   ]
  },
  {
   "cell_type": "code",
   "execution_count": 6,
   "id": "ff2bcea8-77b4-46c3-b4d4-8926faa02573",
   "metadata": {},
   "outputs": [],
   "source": [
    "import fitz"
   ]
  },
  {
   "cell_type": "code",
   "execution_count": 7,
   "id": "069e4e0d-1988-4f96-b87a-c38c26fb9893",
   "metadata": {},
   "outputs": [],
   "source": [
    "from crewai_tools import ScrapeWebsiteTool, PDFSearchTool"
   ]
  },
  {
   "cell_type": "code",
   "execution_count": 8,
   "id": "b5788dd4-6115-47f0-9ed9-3445f84bcdaa",
   "metadata": {},
   "outputs": [],
   "source": [
    "import os\n",
    "from utils import get_openai_api_key\n",
    "\n",
    "openai_api_key = get_openai_api_key()\n",
    "os.environ[\"OPENAI_MODEL_NAME\"] = 'gpt-4.1-mini'"
   ]
  },
  {
   "cell_type": "code",
   "execution_count": 9,
   "id": "3d864582-0711-4690-bcee-0cf1010d1154",
   "metadata": {},
   "outputs": [
    {
     "name": "stdout",
     "output_type": "stream",
     "text": [
      "PDF file downloaded and saved to: Downloads/2025-Microsoft-Environmental-Sustainability-Report-PDF.pdf#page=01\n"
     ]
    }
   ],
   "source": [
    "import requests\n",
    "\n",
    "# Specify the folder path where you want to save the file\n",
    "folder_path = 'Downloads'\n",
    "\n",
    "# Create the folder if it doesn't exist\n",
    "if not os.path.exists(folder_path):\n",
    "    os.makedirs(folder_path)\n",
    "\n",
    "# Sample .pdf data from Arxiv\n",
    "pdf_url = 'https://cdn-dynmedia-1.microsoft.com/is/content/microsoftcorp/microsoft/msc/documents/presentations/CSR/2025-Microsoft-Environmental-Sustainability-Report-PDF.pdf#page=01' # @param {type:\"string\"}\n",
    "response = requests.get(pdf_url)\n",
    "\n",
    "# Extract the filename from the URL\n",
    "filename = os.path.basename(pdf_url)\n",
    "\n",
    "# Specify the file path including the folder and the extracted filename\n",
    "pdf_file_path = os.path.join(folder_path, filename)\n",
    "\n",
    "with open(pdf_file_path, 'wb') as file:\n",
    "    file.write(response.content)\n",
    "\n",
    "print(f\"PDF file downloaded and saved to: {pdf_file_path}\")"
   ]
  },
  {
   "cell_type": "code",
   "execution_count": 10,
   "id": "ee90353b-b73a-4ac4-a086-f4800e965766",
   "metadata": {},
   "outputs": [
    {
     "name": "stderr",
     "output_type": "stream",
     "text": [
      "/Users/pengqili/anaconda3/envs/cse/lib/python3.11/site-packages/alembic/config.py:564: DeprecationWarning: No path_separator found in configuration; falling back to legacy splitting on spaces, commas, and colons for prepend_sys_path.  Consider adding path_separator=os to Alembic config.\n",
      "  util.warn_deprecated(\n",
      "2025-06-13 16:36:38,144 - 8357601408 - _utils.py-_utils:435 - WARNING: Ignoring wrong pointing object 1215 0 (offset 0)\n",
      "2025-06-13 16:36:38,145 - 8357601408 - _utils.py-_utils:435 - WARNING: Ignoring wrong pointing object 8158 0 (offset 0)\n"
     ]
    }
   ],
   "source": [
    "pdf_search_tool = PDFSearchTool(pdf=pdf_file_path)"
   ]
  },
  {
   "cell_type": "code",
   "execution_count": 11,
   "id": "a6f65d77-06c8-4d67-8b59-009b174b646d",
   "metadata": {},
   "outputs": [
    {
     "name": "stdout",
     "output_type": "stream",
     "text": [
      "sheets name： ['Cover', ' User instructions', '1. AI use case', '2. RAI Governance Indicators', '3. RAI Deep Dive', 'ESG guidance', 'Regulation risk level guidance', 'Impact scope guidance', 'Lists']\n"
     ]
    }
   ],
   "source": [
    "file_path = '/Users/pengqili/Downloads/CSIRO-Alphinity-ESG-AI-framework.xlsx'\n",
    "xls = pd.ExcelFile(file_path)\n",
    "print(\"sheets name：\", xls.sheet_names)"
   ]
  },
  {
   "cell_type": "code",
   "execution_count": 12,
   "id": "eff5031a-afdf-424f-8e96-736b342b8d63",
   "metadata": {},
   "outputs": [],
   "source": [
    "AI_use_case_df = pd.read_excel(file_path, sheet_name='1. AI use case')\n",
    "rai_governance_df = pd.read_excel(file_path, sheet_name='2. RAI Governance Indicators')\n",
    "RAI_Deep_Dive_df = pd.read_excel(file_path, sheet_name='3. RAI Deep Dive')"
   ]
  },
  {
   "cell_type": "code",
   "execution_count": 13,
   "id": "80c3c3c3-420f-444f-9253-67cd955f57cc",
   "metadata": {},
   "outputs": [],
   "source": [
    "AI_use_case_agent = Agent(\n",
    "    role=\"AI Use Case Risk Analyst\",\n",
    "    goal=\"Be the most accurate and insightful evaluator of environmental impacts for ESG investment decisions. \"\n",
    "        \"Analyze material AI use cases across 9 key sectors. \"\n",
    "        \"Assess each use case by:\\n\"\n",
    "        \"- Regulatory risk\\n\"\n",
    "        \"- Environmental and social impacts (positive/negative), across 9 impact areas:\\n\"\n",
    "        \"   1. Carbon emissions\\n\"\n",
    "        \"   2. Resource efficiency\\n\"\n",
    "        \"   3. Ecosystem impact\\n\"\n",
    "        \"   4. Diversity, Equity, and Inclusion (DEI)\\n\"\n",
    "        \"   5. Human rights\\n\"\n",
    "        \"   6. Labour management\\n\"\n",
    "        \"   7. Customer and community\\n\"\n",
    "        \"   8. Data privacy and cybersecurity\\n\"\n",
    "        \"   9. Health and safety\\n\"\n",
    "        \"- Impact scope (industry-specific or systemic level).\\n\"\n",
    "        \"Classify each use case as high-, medium-, or low-risk.\",\n",
    "    backstory=(\n",
    "        \"You are a highly experienced ESG analyst specializing in AI-related impact assessments. \"\n",
    "        \"You are now assigned to evaluate the environmental performance of {company}, \"\n",
    "        \"a critical target in your firm's sustainability strategy.\\n\"\n",
    "        \"You analyze material use cases in various industries using a structured framework. \"\n",
    "        \"For each use case, assess its potential to positively or negatively affect nine environmental and social domains. \"\n",
    "        \"Your analysis supports ESG-conscious investment decisions and guides stewardship strategies.\"\n",
    "        \"Accuracy, integrity, and comprehensiveness are your top priorities!\"\n",
    "    ),\n",
    "\tallow_delegation=False,\n",
    "\tverbose=True\n",
    ")"
   ]
  },
  {
   "cell_type": "code",
   "execution_count": 14,
   "id": "4abaca0f-f93f-47a3-aca3-1d14e65360e7",
   "metadata": {},
   "outputs": [],
   "source": [
    "rai_governance_agent = Agent(\n",
    "    role=\"Responsible AI Governance Evaluator\",\n",
    "    goal=(\n",
    "        \"Provide an accurate, indicator-based evaluation of a company's Responsible AI governance. \"\n",
    "        \"Assess the company against 10 governance indicators across four categories:\\n\"\n",
    "        \"- Board oversight\\n\"\n",
    "        \"- RAI commitment\\n\"\n",
    "        \"- RAI implementation\\n\"\n",
    "        \"- RAI metrics\\n\\n\"\n",
    "        \"Determine whether each indicator is addressed and assign a score accordingly. \"\n",
    "        \"Generate a Responsible AI governance score and summary insights to inform ESG investment decisions.\"\n",
    "    ),\n",
    "    backstory=(\n",
    "        \"You are an expert in evaluating corporate AI governance frameworks. \"\n",
    "        \"You reference a 10-indicator standard\"\n",
    "        \"You provide a score out of 10, note gaps, and highlight areas for improvement or escalation.\"\n",
    "    ),\n",
    "    verbose=False,\n",
    "    allow_delegation=False\n",
    ")"
   ]
  },
  {
   "cell_type": "code",
   "execution_count": 15,
   "id": "ab6989d2-8e86-4b5b-b894-c7c19e47e150",
   "metadata": {},
   "outputs": [],
   "source": [
    "rai_deep_dive_agent = Agent(\n",
    "    role=\"RAI Deep Dive Specialist\",\n",
    "    goal=(\n",
    "        \"Conduct the most comprehensive and detailed analysis of a company's AI governance and Responsible AI (RAI) practices, \"\n",
    "        \"using 42 sub-questions and AI Ethics Principles. \"\n",
    "        \"Assess each principle with both a main question score (unacceptable, weak, acceptable, strong) \"\n",
    "        \"and sub-question scores (0–5 scale), considering organisational type, AI system category, and ESG topics.\"\n",
    "    ),\n",
    "    backstory=(\n",
    "        \"You are an expert in AI ethics, regulatory standards, and RAI risk management. \"\n",
    "        \"You guide investment and stewardship decisions by identifying strengths and weaknesses \"\n",
    "        \"in high-risk companies' AI management practices. \"\n",
    "        \"Your assessments combine desktop review and targeted engagement with company experts. \"\n",
    "        \"Your findings support ESG scoring and highlight improvement opportunities in alignment with leading AI Ethics frameworks.\"\n",
    "    ),\n",
    "    verbose=False,\n",
    "    allow_delegation=False\n",
    ")\n"
   ]
  },
  {
   "cell_type": "code",
   "execution_count": 16,
   "id": "5ff36c08-6846-4e31-8342-7c5a0e75f08c",
   "metadata": {},
   "outputs": [],
   "source": [
    "qa_agent = Agent(\n",
    "    role=\"ESG Quality Assurance Analyst\",\n",
    "    goal=\"Ensure all ESG evaluations meet the highest standards of accuracy, clarity, and completeness.\",\n",
    "    backstory=(\n",
    "        \"You are a quality assurance professional in ESG analysis. \"\n",
    "        \"Your task is to review the outputs from environmental, social, and governance assessments \"\n",
    "        \"prepared for {company}.\\n\"\n",
    "        \"You will verify that each report aligns with the official ESG guidance provided, \"\n",
    "        \"check for completeness across all categories, and ensure consistency and clarity of ratings and narratives.\\n\"\n",
    "        \"No assumption should go unchecked. All insights must trace back to the guidance or data sources.\\n\"\n",
    "        \"Your review ensures the ESG investment evaluation is defensible, well-reasoned, and ready for decision-makers.\"\n",
    "    ),\n",
    "\tverbose=True\n",
    ")"
   ]
  },
  {
   "cell_type": "code",
   "execution_count": 17,
   "id": "0ce9c5f8-dd24-4d60-919f-79a000c12205",
   "metadata": {},
   "outputs": [],
   "source": [
    "AI_use_case_task = Task(\n",
    "    description=(\n",
    "        \"Review the sector-specific AI use cases provided. \"\n",
    "        \"For each use case, conduct a materiality assessment using the following criteria:\\n\"\n",
    "        \"1. Regulatory risk\\n\"\n",
    "        \"2. Environmental and social impacts, across 9 dimensions:\\n\"\n",
    "        \"   - Carbon emissions\\n\"\n",
    "        \"   - Resource efficiency\\n\"\n",
    "        \"   - Ecosystem impact\\n\"\n",
    "        \"   - DEI\\n\"\n",
    "        \"   - Human rights\\n\"\n",
    "        \"   - Labour management\\n\"\n",
    "        \"   - Customer and community\\n\"\n",
    "        \"   - Data privacy and cybersecurity\\n\"\n",
    "        \"   - Health and safety\\n\"\n",
    "        \"3. Impact scope (industry-specific or systemic).\\n\\n\"\n",
    "        \"Indicate whether each dimension is positively, negatively, or neutrally impacted. \"\n",
    "        \"Summarize findings and classify the overall use case as high-, medium-, or low-risk.\"\n",
    "    ),\n",
    "    expected_output=(\n",
    "        \"A structured report including:\\n\"\n",
    "        \"- A table of 9 dimensions with positive/negative/neutral impact labels per use case\\n\"\n",
    "        \"- Risk classification\\n\"\n",
    "        \"- Narrative explanation for each key impact\"\n",
    "    ),\n",
    "    tools=[pdf_search_tool],\n",
    "    agent=AI_use_case_agent\n",
    ")\n"
   ]
  },
  {
   "cell_type": "code",
   "execution_count": 18,
   "id": "62b2e680-7d6f-4842-ba2f-da592a940d54",
   "metadata": {},
   "outputs": [],
   "source": [
    "\n",
    "rai_governance_task = Task(\n",
    "    description=(\n",
    "        \"Evaluate {company}'s Responsible AI (RAI) governance practices using the following 10 indicators \"\n",
    "        \"across four categories:\\n\"\n",
    "        \"1. Board oversight\\n\"\n",
    "        \"2. RAI commitment\\n\"\n",
    "        \"3. RAI implementation\\n\"\n",
    "        \"4. RAI metrics\\n\\n\"\n",
    "        \"For each indicator, determine whether it is addressed by the company (Yes/No) and provide a brief rationale \"\n",
    "        \"based on evidence from the official ESG report PDF. \"\n",
    "        \"Assign 1 point for each indicator that is adequately addressed. \"\n",
    "        \"Sum the total score out of 10, and summarize overall strengths, gaps, and areas for improvement. \"\n",
    "        \"If information is insufficient, indicate if further engagement or inquiry is needed.\"\n",
    "    ),\n",
    "    expected_output=(\n",
    "        \"1. A table listing all 10 indicators with category, Yes/No status, and short rationale for each (with PDF references)\\n\"\n",
    "        \"2. Total RAI governance score (0–10)\\n\"\n",
    "        \"3. A summary paragraph covering key strengths, weaknesses, and recommendations for next steps\"\n",
    "    ),\n",
    "    tools=[pdf_search_tool],\n",
    "    agent=rai_governance_agent\n",
    ")\n"
   ]
  },
  {
   "cell_type": "code",
   "execution_count": 19,
   "id": "0158aabe-977e-4fd2-ba1a-a720a174504b",
   "metadata": {},
   "outputs": [],
   "source": [
    "rai_deep_dive_task = Task(\n",
    "    description=(\n",
    "        \"Conduct a comprehensive RAI (Responsible AI) deep dive assessment for {company}, \"\n",
    "        \"following the 42 sub-questions under the AI Ethics Principles framework. \"\n",
    "        \"For each main principle, assign an overall score (unacceptable, weak, acceptable, or strong). \"\n",
    "        \"For each sub-question, assign a score from 0 to 5, considering the company's organisational type, \"\n",
    "        \"AI system category, and relevant ESG topics. \"\n",
    "        \"Your evaluation should draw on the official ESG report PDF and any available public disclosures. \"\n",
    "        \"Identify key strengths, weaknesses, and actionable areas for improvement across all RAI dimensions.\"\n",
    "    ),\n",
    "    expected_output=(\n",
    "        \"A structured report including:\\n\"\n",
    "        \"1. A detailed table listing each principle and all 42 sub-questions, with assigned scores and concise rationales (with PDF or disclosure references)\\n\"\n",
    "        \"2. Overall summary for each principle, including main score and key supporting evidence\\n\"\n",
    "        \"3. A final assessment summarizing RAI governance performance, major gaps, and recommendations for investors or stewardship teams\"\n",
    "    ),\n",
    "    tools=[pdf_search_tool],  \n",
    "    agent=rai_deep_dive_agent\n",
    ")"
   ]
  },
  {
   "cell_type": "code",
   "execution_count": 20,
   "id": "579f695e-ea76-4900-9c3c-e6e7c1291ddc",
   "metadata": {},
   "outputs": [],
   "source": [
    "qa_task = Task(\n",
    "    description=(\n",
    "        \"Review and validate all ESG and RAI analysis reports for {company}. \"\n",
    "        \"Check for accuracy, consistency, completeness, and proper use of evidence from the official PDF and data sources. \"\n",
    "        \"Provide QA comments, highlight areas for improvement, and ensure each section fully aligns with the assessment framework.\"\n",
    "    ),\n",
    "    expected_output=(\n",
    "        \"A finalized, quality-assured ESG/RAI evaluation report with QA notes, corrections, and recommendations for further analysis or disclosure.\"\n",
    "    ),\n",
    "    tools=[pdf_search_tool], \n",
    "    agent=qa_agent\n",
    ")"
   ]
  },
  {
   "cell_type": "code",
   "execution_count": 21,
   "id": "fbd477b1-218e-4475-8141-b0be2fc71bf2",
   "metadata": {},
   "outputs": [],
   "source": [
    "esg_crew = Crew(\n",
    "    agents=[\n",
    "        AI_use_case_agent,\n",
    "        rai_governance_agent,\n",
    "        rai_deep_dive_agent,\n",
    "        qa_agent\n",
    "    ],\n",
    "    tasks=[\n",
    "        AI_use_case_task,\n",
    "        rai_governance_task,\n",
    "        rai_deep_dive_task,\n",
    "        qa_task\n",
    "    ],\n",
    "    verbose=True,   \n",
    "    memory=True      \n",
    ")"
   ]
  },
  {
   "cell_type": "code",
   "execution_count": 22,
   "id": "b3cdcf2c-3e3c-4df4-8521-1ea5058f4c9d",
   "metadata": {},
   "outputs": [
    {
     "data": {
      "text/html": [
       "<pre style=\"white-space:pre;overflow-x:auto;line-height:normal;font-family:Menlo,'DejaVu Sans Mono',consolas,'Courier New',monospace\"><span style=\"color: #008080; text-decoration-color: #008080\">╭──────────────────────────────────────────── Crew Execution Started ─────────────────────────────────────────────╮</span>\n",
       "<span style=\"color: #008080; text-decoration-color: #008080\">│</span>                                                                                                                 <span style=\"color: #008080; text-decoration-color: #008080\">│</span>\n",
       "<span style=\"color: #008080; text-decoration-color: #008080\">│</span>  <span style=\"color: #008080; text-decoration-color: #008080; font-weight: bold\">Crew Execution Started</span>                                                                                         <span style=\"color: #008080; text-decoration-color: #008080\">│</span>\n",
       "<span style=\"color: #008080; text-decoration-color: #008080\">│</span>  <span style=\"color: #c0c0c0; text-decoration-color: #c0c0c0\">Name: </span><span style=\"color: #008080; text-decoration-color: #008080\">crew</span>                                                                                                     <span style=\"color: #008080; text-decoration-color: #008080\">│</span>\n",
       "<span style=\"color: #008080; text-decoration-color: #008080\">│</span>  <span style=\"color: #c0c0c0; text-decoration-color: #c0c0c0\">ID: </span><span style=\"color: #008080; text-decoration-color: #008080\">cb69f052-056f-4243-99b3-e524ac034e7d</span>                                                                       <span style=\"color: #008080; text-decoration-color: #008080\">│</span>\n",
       "<span style=\"color: #008080; text-decoration-color: #008080\">│</span>                                                                                                                 <span style=\"color: #008080; text-decoration-color: #008080\">│</span>\n",
       "<span style=\"color: #008080; text-decoration-color: #008080\">│</span>                                                                                                                 <span style=\"color: #008080; text-decoration-color: #008080\">│</span>\n",
       "<span style=\"color: #008080; text-decoration-color: #008080\">╰─────────────────────────────────────────────────────────────────────────────────────────────────────────────────╯</span>\n",
       "</pre>\n"
      ],
      "text/plain": [
       "\u001b[36m╭─\u001b[0m\u001b[36m───────────────────────────────────────────\u001b[0m\u001b[36m Crew Execution Started \u001b[0m\u001b[36m────────────────────────────────────────────\u001b[0m\u001b[36m─╮\u001b[0m\n",
       "\u001b[36m│\u001b[0m                                                                                                                 \u001b[36m│\u001b[0m\n",
       "\u001b[36m│\u001b[0m  \u001b[1;36mCrew Execution Started\u001b[0m                                                                                         \u001b[36m│\u001b[0m\n",
       "\u001b[36m│\u001b[0m  \u001b[37mName: \u001b[0m\u001b[36mcrew\u001b[0m                                                                                                     \u001b[36m│\u001b[0m\n",
       "\u001b[36m│\u001b[0m  \u001b[37mID: \u001b[0m\u001b[36mcb69f052-056f-4243-99b3-e524ac034e7d\u001b[0m                                                                       \u001b[36m│\u001b[0m\n",
       "\u001b[36m│\u001b[0m                                                                                                                 \u001b[36m│\u001b[0m\n",
       "\u001b[36m│\u001b[0m                                                                                                                 \u001b[36m│\u001b[0m\n",
       "\u001b[36m╰─────────────────────────────────────────────────────────────────────────────────────────────────────────────────╯\u001b[0m\n"
      ]
     },
     "metadata": {},
     "output_type": "display_data"
    },
    {
     "data": {
      "text/html": [
       "<pre style=\"white-space:pre;overflow-x:auto;line-height:normal;font-family:Menlo,'DejaVu Sans Mono',consolas,'Courier New',monospace\">\n",
       "</pre>\n"
      ],
      "text/plain": [
       "\n"
      ]
     },
     "metadata": {},
     "output_type": "display_data"
    },
    {
     "data": {
      "text/html": [
       "<pre style=\"white-space:pre;overflow-x:auto;line-height:normal;font-family:Menlo,'DejaVu Sans Mono',consolas,'Courier New',monospace\">/Users/pengqili/anaconda3/envs/cse/lib/python3.11/site-packages/chromadb/types.py:144: PydanticDeprecatedSince211: \n",
       "Accessing the 'model_fields' attribute on the instance is deprecated. Instead, you should access this attribute \n",
       "from the model class. Deprecated in Pydantic V2.11 to be removed in V3.0.\n",
       "  return self.model_fields  # pydantic 2.x\n",
       "</pre>\n"
      ],
      "text/plain": [
       "/Users/pengqili/anaconda3/envs/cse/lib/python3.11/site-packages/chromadb/types.py:144: PydanticDeprecatedSince211: \n",
       "Accessing the 'model_fields' attribute on the instance is deprecated. Instead, you should access this attribute \n",
       "from the model class. Deprecated in Pydantic V2.11 to be removed in V3.0.\n",
       "  return self.model_fields  # pydantic 2.x\n"
      ]
     },
     "metadata": {},
     "output_type": "display_data"
    },
    {
     "data": {
      "text/html": [
       "<pre style=\"white-space:pre;overflow-x:auto;line-height:normal;font-family:Menlo,'DejaVu Sans Mono',consolas,'Courier New',monospace\">/Users/pengqili/anaconda3/envs/cse/lib/python3.11/site-packages/chromadb/types.py:144: PydanticDeprecatedSince211: \n",
       "Accessing the 'model_fields' attribute on the instance is deprecated. Instead, you should access this attribute \n",
       "from the model class. Deprecated in Pydantic V2.11 to be removed in V3.0.\n",
       "  return self.model_fields  # pydantic 2.x\n",
       "</pre>\n"
      ],
      "text/plain": [
       "/Users/pengqili/anaconda3/envs/cse/lib/python3.11/site-packages/chromadb/types.py:144: PydanticDeprecatedSince211: \n",
       "Accessing the 'model_fields' attribute on the instance is deprecated. Instead, you should access this attribute \n",
       "from the model class. Deprecated in Pydantic V2.11 to be removed in V3.0.\n",
       "  return self.model_fields  # pydantic 2.x\n"
      ]
     },
     "metadata": {},
     "output_type": "display_data"
    },
    {
     "data": {
      "text/html": [
       "<pre style=\"white-space:pre;overflow-x:auto;line-height:normal;font-family:Menlo,'DejaVu Sans Mono',consolas,'Courier New',monospace\">/Users/pengqili/anaconda3/envs/cse/lib/python3.11/site-packages/chromadb/types.py:144: PydanticDeprecatedSince211: \n",
       "Accessing the 'model_fields' attribute on the instance is deprecated. Instead, you should access this attribute \n",
       "from the model class. Deprecated in Pydantic V2.11 to be removed in V3.0.\n",
       "  return self.model_fields  # pydantic 2.x\n",
       "</pre>\n"
      ],
      "text/plain": [
       "/Users/pengqili/anaconda3/envs/cse/lib/python3.11/site-packages/chromadb/types.py:144: PydanticDeprecatedSince211: \n",
       "Accessing the 'model_fields' attribute on the instance is deprecated. Instead, you should access this attribute \n",
       "from the model class. Deprecated in Pydantic V2.11 to be removed in V3.0.\n",
       "  return self.model_fields  # pydantic 2.x\n"
      ]
     },
     "metadata": {},
     "output_type": "display_data"
    },
    {
     "data": {
      "text/html": [
       "<pre style=\"white-space:pre;overflow-x:auto;line-height:normal;font-family:Menlo,'DejaVu Sans Mono',consolas,'Courier New',monospace\">/Users/pengqili/anaconda3/envs/cse/lib/python3.11/site-packages/chromadb/types.py:144: PydanticDeprecatedSince211: \n",
       "Accessing the 'model_fields' attribute on the instance is deprecated. Instead, you should access this attribute \n",
       "from the model class. Deprecated in Pydantic V2.11 to be removed in V3.0.\n",
       "  return self.model_fields  # pydantic 2.x\n",
       "</pre>\n"
      ],
      "text/plain": [
       "/Users/pengqili/anaconda3/envs/cse/lib/python3.11/site-packages/chromadb/types.py:144: PydanticDeprecatedSince211: \n",
       "Accessing the 'model_fields' attribute on the instance is deprecated. Instead, you should access this attribute \n",
       "from the model class. Deprecated in Pydantic V2.11 to be removed in V3.0.\n",
       "  return self.model_fields  # pydantic 2.x\n"
      ]
     },
     "metadata": {},
     "output_type": "display_data"
    },
    {
     "data": {
      "text/html": [
       "<pre style=\"white-space:pre;overflow-x:auto;line-height:normal;font-family:Menlo,'DejaVu Sans Mono',consolas,'Courier New',monospace\"></pre>\n"
      ],
      "text/plain": []
     },
     "metadata": {},
     "output_type": "display_data"
    },
    {
     "data": {
      "text/html": [
       "<pre style=\"white-space:pre;overflow-x:auto;line-height:normal;font-family:Menlo,'DejaVu Sans Mono',consolas,'Courier New',monospace\"><span style=\"color: #008000; text-decoration-color: #008000\">╭──────────────────────────────────────────────── Task Completion ────────────────────────────────────────────────╮</span>\n",
       "<span style=\"color: #008000; text-decoration-color: #008000\">│</span>                                                                                                                 <span style=\"color: #008000; text-decoration-color: #008000\">│</span>\n",
       "<span style=\"color: #008000; text-decoration-color: #008000\">│</span>  <span style=\"color: #008000; text-decoration-color: #008000; font-weight: bold\">Task Completed</span>                                                                                                 <span style=\"color: #008000; text-decoration-color: #008000\">│</span>\n",
       "<span style=\"color: #008000; text-decoration-color: #008000\">│</span>  <span style=\"color: #c0c0c0; text-decoration-color: #c0c0c0\">Name: </span><span style=\"color: #008000; text-decoration-color: #008000\">40ef5d30-1ea5-45c5-8eda-c4710081d661</span>                                                                     <span style=\"color: #008000; text-decoration-color: #008000\">│</span>\n",
       "<span style=\"color: #008000; text-decoration-color: #008000\">│</span>  <span style=\"color: #c0c0c0; text-decoration-color: #c0c0c0\">Agent: </span><span style=\"color: #008000; text-decoration-color: #008000\">AI Use Case Risk Analyst</span>                                                                                <span style=\"color: #008000; text-decoration-color: #008000\">│</span>\n",
       "<span style=\"color: #008000; text-decoration-color: #008000\">│</span>                                                                                                                 <span style=\"color: #008000; text-decoration-color: #008000\">│</span>\n",
       "<span style=\"color: #008000; text-decoration-color: #008000\">│</span>                                                                                                                 <span style=\"color: #008000; text-decoration-color: #008000\">│</span>\n",
       "<span style=\"color: #008000; text-decoration-color: #008000\">╰─────────────────────────────────────────────────────────────────────────────────────────────────────────────────╯</span>\n",
       "</pre>\n"
      ],
      "text/plain": [
       "\u001b[32m╭─\u001b[0m\u001b[32m───────────────────────────────────────────────\u001b[0m\u001b[32m Task Completion \u001b[0m\u001b[32m───────────────────────────────────────────────\u001b[0m\u001b[32m─╮\u001b[0m\n",
       "\u001b[32m│\u001b[0m                                                                                                                 \u001b[32m│\u001b[0m\n",
       "\u001b[32m│\u001b[0m  \u001b[1;32mTask Completed\u001b[0m                                                                                                 \u001b[32m│\u001b[0m\n",
       "\u001b[32m│\u001b[0m  \u001b[37mName: \u001b[0m\u001b[32m40ef5d30-1ea5-45c5-8eda-c4710081d661\u001b[0m                                                                     \u001b[32m│\u001b[0m\n",
       "\u001b[32m│\u001b[0m  \u001b[37mAgent: \u001b[0m\u001b[32mAI Use Case Risk Analyst\u001b[0m                                                                                \u001b[32m│\u001b[0m\n",
       "\u001b[32m│\u001b[0m                                                                                                                 \u001b[32m│\u001b[0m\n",
       "\u001b[32m│\u001b[0m                                                                                                                 \u001b[32m│\u001b[0m\n",
       "\u001b[32m╰─────────────────────────────────────────────────────────────────────────────────────────────────────────────────╯\u001b[0m\n"
      ]
     },
     "metadata": {},
     "output_type": "display_data"
    },
    {
     "data": {
      "text/html": [
       "<pre style=\"white-space:pre;overflow-x:auto;line-height:normal;font-family:Menlo,'DejaVu Sans Mono',consolas,'Courier New',monospace\">\n",
       "</pre>\n"
      ],
      "text/plain": [
       "\n"
      ]
     },
     "metadata": {},
     "output_type": "display_data"
    },
    {
     "data": {
      "text/html": [
       "<pre style=\"white-space:pre;overflow-x:auto;line-height:normal;font-family:Menlo,'DejaVu Sans Mono',consolas,'Courier New',monospace\">/Users/pengqili/anaconda3/envs/cse/lib/python3.11/site-packages/chromadb/types.py:144: PydanticDeprecatedSince211: \n",
       "Accessing the 'model_fields' attribute on the instance is deprecated. Instead, you should access this attribute \n",
       "from the model class. Deprecated in Pydantic V2.11 to be removed in V3.0.\n",
       "  return self.model_fields  # pydantic 2.x\n",
       "</pre>\n"
      ],
      "text/plain": [
       "/Users/pengqili/anaconda3/envs/cse/lib/python3.11/site-packages/chromadb/types.py:144: PydanticDeprecatedSince211: \n",
       "Accessing the 'model_fields' attribute on the instance is deprecated. Instead, you should access this attribute \n",
       "from the model class. Deprecated in Pydantic V2.11 to be removed in V3.0.\n",
       "  return self.model_fields  # pydantic 2.x\n"
      ]
     },
     "metadata": {},
     "output_type": "display_data"
    },
    {
     "data": {
      "text/html": [
       "<pre style=\"white-space:pre;overflow-x:auto;line-height:normal;font-family:Menlo,'DejaVu Sans Mono',consolas,'Courier New',monospace\">/Users/pengqili/anaconda3/envs/cse/lib/python3.11/site-packages/chromadb/types.py:144: PydanticDeprecatedSince211: \n",
       "Accessing the 'model_fields' attribute on the instance is deprecated. Instead, you should access this attribute \n",
       "from the model class. Deprecated in Pydantic V2.11 to be removed in V3.0.\n",
       "  return self.model_fields  # pydantic 2.x\n",
       "</pre>\n"
      ],
      "text/plain": [
       "/Users/pengqili/anaconda3/envs/cse/lib/python3.11/site-packages/chromadb/types.py:144: PydanticDeprecatedSince211: \n",
       "Accessing the 'model_fields' attribute on the instance is deprecated. Instead, you should access this attribute \n",
       "from the model class. Deprecated in Pydantic V2.11 to be removed in V3.0.\n",
       "  return self.model_fields  # pydantic 2.x\n"
      ]
     },
     "metadata": {},
     "output_type": "display_data"
    },
    {
     "data": {
      "text/html": [
       "<pre style=\"white-space:pre;overflow-x:auto;line-height:normal;font-family:Menlo,'DejaVu Sans Mono',consolas,'Courier New',monospace\">/Users/pengqili/anaconda3/envs/cse/lib/python3.11/site-packages/chromadb/types.py:144: PydanticDeprecatedSince211: \n",
       "Accessing the 'model_fields' attribute on the instance is deprecated. Instead, you should access this attribute \n",
       "from the model class. Deprecated in Pydantic V2.11 to be removed in V3.0.\n",
       "  return self.model_fields  # pydantic 2.x\n",
       "</pre>\n"
      ],
      "text/plain": [
       "/Users/pengqili/anaconda3/envs/cse/lib/python3.11/site-packages/chromadb/types.py:144: PydanticDeprecatedSince211: \n",
       "Accessing the 'model_fields' attribute on the instance is deprecated. Instead, you should access this attribute \n",
       "from the model class. Deprecated in Pydantic V2.11 to be removed in V3.0.\n",
       "  return self.model_fields  # pydantic 2.x\n"
      ]
     },
     "metadata": {},
     "output_type": "display_data"
    },
    {
     "data": {
      "text/html": [
       "<pre style=\"white-space:pre;overflow-x:auto;line-height:normal;font-family:Menlo,'DejaVu Sans Mono',consolas,'Courier New',monospace\">/Users/pengqili/anaconda3/envs/cse/lib/python3.11/site-packages/chromadb/types.py:144: PydanticDeprecatedSince211: \n",
       "Accessing the 'model_fields' attribute on the instance is deprecated. Instead, you should access this attribute \n",
       "from the model class. Deprecated in Pydantic V2.11 to be removed in V3.0.\n",
       "  return self.model_fields  # pydantic 2.x\n",
       "</pre>\n"
      ],
      "text/plain": [
       "/Users/pengqili/anaconda3/envs/cse/lib/python3.11/site-packages/chromadb/types.py:144: PydanticDeprecatedSince211: \n",
       "Accessing the 'model_fields' attribute on the instance is deprecated. Instead, you should access this attribute \n",
       "from the model class. Deprecated in Pydantic V2.11 to be removed in V3.0.\n",
       "  return self.model_fields  # pydantic 2.x\n"
      ]
     },
     "metadata": {},
     "output_type": "display_data"
    },
    {
     "data": {
      "text/html": [
       "<pre style=\"white-space:pre;overflow-x:auto;line-height:normal;font-family:Menlo,'DejaVu Sans Mono',consolas,'Courier New',monospace\">/Users/pengqili/anaconda3/envs/cse/lib/python3.11/site-packages/chromadb/types.py:144: PydanticDeprecatedSince211: \n",
       "Accessing the 'model_fields' attribute on the instance is deprecated. Instead, you should access this attribute \n",
       "from the model class. Deprecated in Pydantic V2.11 to be removed in V3.0.\n",
       "  return self.model_fields  # pydantic 2.x\n",
       "</pre>\n"
      ],
      "text/plain": [
       "/Users/pengqili/anaconda3/envs/cse/lib/python3.11/site-packages/chromadb/types.py:144: PydanticDeprecatedSince211: \n",
       "Accessing the 'model_fields' attribute on the instance is deprecated. Instead, you should access this attribute \n",
       "from the model class. Deprecated in Pydantic V2.11 to be removed in V3.0.\n",
       "  return self.model_fields  # pydantic 2.x\n"
      ]
     },
     "metadata": {},
     "output_type": "display_data"
    },
    {
     "data": {
      "text/html": [
       "<pre style=\"white-space:pre;overflow-x:auto;line-height:normal;font-family:Menlo,'DejaVu Sans Mono',consolas,'Courier New',monospace\">/Users/pengqili/anaconda3/envs/cse/lib/python3.11/site-packages/chromadb/types.py:144: PydanticDeprecatedSince211: \n",
       "Accessing the 'model_fields' attribute on the instance is deprecated. Instead, you should access this attribute \n",
       "from the model class. Deprecated in Pydantic V2.11 to be removed in V3.0.\n",
       "  return self.model_fields  # pydantic 2.x\n",
       "</pre>\n"
      ],
      "text/plain": [
       "/Users/pengqili/anaconda3/envs/cse/lib/python3.11/site-packages/chromadb/types.py:144: PydanticDeprecatedSince211: \n",
       "Accessing the 'model_fields' attribute on the instance is deprecated. Instead, you should access this attribute \n",
       "from the model class. Deprecated in Pydantic V2.11 to be removed in V3.0.\n",
       "  return self.model_fields  # pydantic 2.x\n"
      ]
     },
     "metadata": {},
     "output_type": "display_data"
    },
    {
     "data": {
      "text/html": [
       "<pre style=\"white-space:pre;overflow-x:auto;line-height:normal;font-family:Menlo,'DejaVu Sans Mono',consolas,'Courier New',monospace\">/Users/pengqili/anaconda3/envs/cse/lib/python3.11/site-packages/chromadb/types.py:144: PydanticDeprecatedSince211: \n",
       "Accessing the 'model_fields' attribute on the instance is deprecated. Instead, you should access this attribute \n",
       "from the model class. Deprecated in Pydantic V2.11 to be removed in V3.0.\n",
       "  return self.model_fields  # pydantic 2.x\n",
       "</pre>\n"
      ],
      "text/plain": [
       "/Users/pengqili/anaconda3/envs/cse/lib/python3.11/site-packages/chromadb/types.py:144: PydanticDeprecatedSince211: \n",
       "Accessing the 'model_fields' attribute on the instance is deprecated. Instead, you should access this attribute \n",
       "from the model class. Deprecated in Pydantic V2.11 to be removed in V3.0.\n",
       "  return self.model_fields  # pydantic 2.x\n"
      ]
     },
     "metadata": {},
     "output_type": "display_data"
    },
    {
     "data": {
      "text/html": [
       "<pre style=\"white-space:pre;overflow-x:auto;line-height:normal;font-family:Menlo,'DejaVu Sans Mono',consolas,'Courier New',monospace\">/Users/pengqili/anaconda3/envs/cse/lib/python3.11/site-packages/chromadb/types.py:144: PydanticDeprecatedSince211: \n",
       "Accessing the 'model_fields' attribute on the instance is deprecated. Instead, you should access this attribute \n",
       "from the model class. Deprecated in Pydantic V2.11 to be removed in V3.0.\n",
       "  return self.model_fields  # pydantic 2.x\n",
       "</pre>\n"
      ],
      "text/plain": [
       "/Users/pengqili/anaconda3/envs/cse/lib/python3.11/site-packages/chromadb/types.py:144: PydanticDeprecatedSince211: \n",
       "Accessing the 'model_fields' attribute on the instance is deprecated. Instead, you should access this attribute \n",
       "from the model class. Deprecated in Pydantic V2.11 to be removed in V3.0.\n",
       "  return self.model_fields  # pydantic 2.x\n"
      ]
     },
     "metadata": {},
     "output_type": "display_data"
    },
    {
     "data": {
      "text/html": [
       "<pre style=\"white-space:pre;overflow-x:auto;line-height:normal;font-family:Menlo,'DejaVu Sans Mono',consolas,'Courier New',monospace\">/Users/pengqili/anaconda3/envs/cse/lib/python3.11/site-packages/chromadb/types.py:144: PydanticDeprecatedSince211: \n",
       "Accessing the 'model_fields' attribute on the instance is deprecated. Instead, you should access this attribute \n",
       "from the model class. Deprecated in Pydantic V2.11 to be removed in V3.0.\n",
       "  return self.model_fields  # pydantic 2.x\n",
       "</pre>\n"
      ],
      "text/plain": [
       "/Users/pengqili/anaconda3/envs/cse/lib/python3.11/site-packages/chromadb/types.py:144: PydanticDeprecatedSince211: \n",
       "Accessing the 'model_fields' attribute on the instance is deprecated. Instead, you should access this attribute \n",
       "from the model class. Deprecated in Pydantic V2.11 to be removed in V3.0.\n",
       "  return self.model_fields  # pydantic 2.x\n"
      ]
     },
     "metadata": {},
     "output_type": "display_data"
    },
    {
     "data": {
      "text/html": [
       "<pre style=\"white-space:pre;overflow-x:auto;line-height:normal;font-family:Menlo,'DejaVu Sans Mono',consolas,'Courier New',monospace\"></pre>\n"
      ],
      "text/plain": []
     },
     "metadata": {},
     "output_type": "display_data"
    },
    {
     "data": {
      "text/html": [
       "<pre style=\"white-space:pre;overflow-x:auto;line-height:normal;font-family:Menlo,'DejaVu Sans Mono',consolas,'Courier New',monospace\"><span style=\"color: #008000; text-decoration-color: #008000\">╭──────────────────────────────────────────────── Task Completion ────────────────────────────────────────────────╮</span>\n",
       "<span style=\"color: #008000; text-decoration-color: #008000\">│</span>                                                                                                                 <span style=\"color: #008000; text-decoration-color: #008000\">│</span>\n",
       "<span style=\"color: #008000; text-decoration-color: #008000\">│</span>  <span style=\"color: #008000; text-decoration-color: #008000; font-weight: bold\">Task Completed</span>                                                                                                 <span style=\"color: #008000; text-decoration-color: #008000\">│</span>\n",
       "<span style=\"color: #008000; text-decoration-color: #008000\">│</span>  <span style=\"color: #c0c0c0; text-decoration-color: #c0c0c0\">Name: </span><span style=\"color: #008000; text-decoration-color: #008000\">9ed5947d-3b35-4e8d-a764-b83cc2259929</span>                                                                     <span style=\"color: #008000; text-decoration-color: #008000\">│</span>\n",
       "<span style=\"color: #008000; text-decoration-color: #008000\">│</span>  <span style=\"color: #c0c0c0; text-decoration-color: #c0c0c0\">Agent: </span><span style=\"color: #008000; text-decoration-color: #008000\">Responsible AI Governance Evaluator</span>                                                                     <span style=\"color: #008000; text-decoration-color: #008000\">│</span>\n",
       "<span style=\"color: #008000; text-decoration-color: #008000\">│</span>                                                                                                                 <span style=\"color: #008000; text-decoration-color: #008000\">│</span>\n",
       "<span style=\"color: #008000; text-decoration-color: #008000\">│</span>                                                                                                                 <span style=\"color: #008000; text-decoration-color: #008000\">│</span>\n",
       "<span style=\"color: #008000; text-decoration-color: #008000\">╰─────────────────────────────────────────────────────────────────────────────────────────────────────────────────╯</span>\n",
       "</pre>\n"
      ],
      "text/plain": [
       "\u001b[32m╭─\u001b[0m\u001b[32m───────────────────────────────────────────────\u001b[0m\u001b[32m Task Completion \u001b[0m\u001b[32m───────────────────────────────────────────────\u001b[0m\u001b[32m─╮\u001b[0m\n",
       "\u001b[32m│\u001b[0m                                                                                                                 \u001b[32m│\u001b[0m\n",
       "\u001b[32m│\u001b[0m  \u001b[1;32mTask Completed\u001b[0m                                                                                                 \u001b[32m│\u001b[0m\n",
       "\u001b[32m│\u001b[0m  \u001b[37mName: \u001b[0m\u001b[32m9ed5947d-3b35-4e8d-a764-b83cc2259929\u001b[0m                                                                     \u001b[32m│\u001b[0m\n",
       "\u001b[32m│\u001b[0m  \u001b[37mAgent: \u001b[0m\u001b[32mResponsible AI Governance Evaluator\u001b[0m                                                                     \u001b[32m│\u001b[0m\n",
       "\u001b[32m│\u001b[0m                                                                                                                 \u001b[32m│\u001b[0m\n",
       "\u001b[32m│\u001b[0m                                                                                                                 \u001b[32m│\u001b[0m\n",
       "\u001b[32m╰─────────────────────────────────────────────────────────────────────────────────────────────────────────────────╯\u001b[0m\n"
      ]
     },
     "metadata": {},
     "output_type": "display_data"
    },
    {
     "data": {
      "text/html": [
       "<pre style=\"white-space:pre;overflow-x:auto;line-height:normal;font-family:Menlo,'DejaVu Sans Mono',consolas,'Courier New',monospace\">\n",
       "</pre>\n"
      ],
      "text/plain": [
       "\n"
      ]
     },
     "metadata": {},
     "output_type": "display_data"
    },
    {
     "data": {
      "text/html": [
       "<pre style=\"white-space:pre;overflow-x:auto;line-height:normal;font-family:Menlo,'DejaVu Sans Mono',consolas,'Courier New',monospace\">/Users/pengqili/anaconda3/envs/cse/lib/python3.11/site-packages/chromadb/types.py:144: PydanticDeprecatedSince211: \n",
       "Accessing the 'model_fields' attribute on the instance is deprecated. Instead, you should access this attribute \n",
       "from the model class. Deprecated in Pydantic V2.11 to be removed in V3.0.\n",
       "  return self.model_fields  # pydantic 2.x\n",
       "</pre>\n"
      ],
      "text/plain": [
       "/Users/pengqili/anaconda3/envs/cse/lib/python3.11/site-packages/chromadb/types.py:144: PydanticDeprecatedSince211: \n",
       "Accessing the 'model_fields' attribute on the instance is deprecated. Instead, you should access this attribute \n",
       "from the model class. Deprecated in Pydantic V2.11 to be removed in V3.0.\n",
       "  return self.model_fields  # pydantic 2.x\n"
      ]
     },
     "metadata": {},
     "output_type": "display_data"
    },
    {
     "data": {
      "text/html": [
       "<pre style=\"white-space:pre;overflow-x:auto;line-height:normal;font-family:Menlo,'DejaVu Sans Mono',consolas,'Courier New',monospace\">/Users/pengqili/anaconda3/envs/cse/lib/python3.11/site-packages/chromadb/types.py:144: PydanticDeprecatedSince211: \n",
       "Accessing the 'model_fields' attribute on the instance is deprecated. Instead, you should access this attribute \n",
       "from the model class. Deprecated in Pydantic V2.11 to be removed in V3.0.\n",
       "  return self.model_fields  # pydantic 2.x\n",
       "</pre>\n"
      ],
      "text/plain": [
       "/Users/pengqili/anaconda3/envs/cse/lib/python3.11/site-packages/chromadb/types.py:144: PydanticDeprecatedSince211: \n",
       "Accessing the 'model_fields' attribute on the instance is deprecated. Instead, you should access this attribute \n",
       "from the model class. Deprecated in Pydantic V2.11 to be removed in V3.0.\n",
       "  return self.model_fields  # pydantic 2.x\n"
      ]
     },
     "metadata": {},
     "output_type": "display_data"
    },
    {
     "data": {
      "text/html": [
       "<pre style=\"white-space:pre;overflow-x:auto;line-height:normal;font-family:Menlo,'DejaVu Sans Mono',consolas,'Courier New',monospace\">/Users/pengqili/anaconda3/envs/cse/lib/python3.11/site-packages/chromadb/types.py:144: PydanticDeprecatedSince211: \n",
       "Accessing the 'model_fields' attribute on the instance is deprecated. Instead, you should access this attribute \n",
       "from the model class. Deprecated in Pydantic V2.11 to be removed in V3.0.\n",
       "  return self.model_fields  # pydantic 2.x\n",
       "</pre>\n"
      ],
      "text/plain": [
       "/Users/pengqili/anaconda3/envs/cse/lib/python3.11/site-packages/chromadb/types.py:144: PydanticDeprecatedSince211: \n",
       "Accessing the 'model_fields' attribute on the instance is deprecated. Instead, you should access this attribute \n",
       "from the model class. Deprecated in Pydantic V2.11 to be removed in V3.0.\n",
       "  return self.model_fields  # pydantic 2.x\n"
      ]
     },
     "metadata": {},
     "output_type": "display_data"
    },
    {
     "data": {
      "text/html": [
       "<pre style=\"white-space:pre;overflow-x:auto;line-height:normal;font-family:Menlo,'DejaVu Sans Mono',consolas,'Courier New',monospace\">/Users/pengqili/anaconda3/envs/cse/lib/python3.11/site-packages/chromadb/types.py:144: PydanticDeprecatedSince211: \n",
       "Accessing the 'model_fields' attribute on the instance is deprecated. Instead, you should access this attribute \n",
       "from the model class. Deprecated in Pydantic V2.11 to be removed in V3.0.\n",
       "  return self.model_fields  # pydantic 2.x\n",
       "</pre>\n"
      ],
      "text/plain": [
       "/Users/pengqili/anaconda3/envs/cse/lib/python3.11/site-packages/chromadb/types.py:144: PydanticDeprecatedSince211: \n",
       "Accessing the 'model_fields' attribute on the instance is deprecated. Instead, you should access this attribute \n",
       "from the model class. Deprecated in Pydantic V2.11 to be removed in V3.0.\n",
       "  return self.model_fields  # pydantic 2.x\n"
      ]
     },
     "metadata": {},
     "output_type": "display_data"
    },
    {
     "data": {
      "text/html": [
       "<pre style=\"white-space:pre;overflow-x:auto;line-height:normal;font-family:Menlo,'DejaVu Sans Mono',consolas,'Courier New',monospace\">/Users/pengqili/anaconda3/envs/cse/lib/python3.11/site-packages/chromadb/types.py:144: PydanticDeprecatedSince211: \n",
       "Accessing the 'model_fields' attribute on the instance is deprecated. Instead, you should access this attribute \n",
       "from the model class. Deprecated in Pydantic V2.11 to be removed in V3.0.\n",
       "  return self.model_fields  # pydantic 2.x\n",
       "</pre>\n"
      ],
      "text/plain": [
       "/Users/pengqili/anaconda3/envs/cse/lib/python3.11/site-packages/chromadb/types.py:144: PydanticDeprecatedSince211: \n",
       "Accessing the 'model_fields' attribute on the instance is deprecated. Instead, you should access this attribute \n",
       "from the model class. Deprecated in Pydantic V2.11 to be removed in V3.0.\n",
       "  return self.model_fields  # pydantic 2.x\n"
      ]
     },
     "metadata": {},
     "output_type": "display_data"
    },
    {
     "data": {
      "text/html": [
       "<pre style=\"white-space:pre;overflow-x:auto;line-height:normal;font-family:Menlo,'DejaVu Sans Mono',consolas,'Courier New',monospace\">/Users/pengqili/anaconda3/envs/cse/lib/python3.11/site-packages/chromadb/types.py:144: PydanticDeprecatedSince211: \n",
       "Accessing the 'model_fields' attribute on the instance is deprecated. Instead, you should access this attribute \n",
       "from the model class. Deprecated in Pydantic V2.11 to be removed in V3.0.\n",
       "  return self.model_fields  # pydantic 2.x\n",
       "</pre>\n"
      ],
      "text/plain": [
       "/Users/pengqili/anaconda3/envs/cse/lib/python3.11/site-packages/chromadb/types.py:144: PydanticDeprecatedSince211: \n",
       "Accessing the 'model_fields' attribute on the instance is deprecated. Instead, you should access this attribute \n",
       "from the model class. Deprecated in Pydantic V2.11 to be removed in V3.0.\n",
       "  return self.model_fields  # pydantic 2.x\n"
      ]
     },
     "metadata": {},
     "output_type": "display_data"
    },
    {
     "data": {
      "text/html": [
       "<pre style=\"white-space:pre;overflow-x:auto;line-height:normal;font-family:Menlo,'DejaVu Sans Mono',consolas,'Courier New',monospace\"></pre>\n"
      ],
      "text/plain": []
     },
     "metadata": {},
     "output_type": "display_data"
    },
    {
     "data": {
      "text/html": [
       "<pre style=\"white-space:pre;overflow-x:auto;line-height:normal;font-family:Menlo,'DejaVu Sans Mono',consolas,'Courier New',monospace\"><span style=\"color: #008000; text-decoration-color: #008000\">╭──────────────────────────────────────────────── Task Completion ────────────────────────────────────────────────╮</span>\n",
       "<span style=\"color: #008000; text-decoration-color: #008000\">│</span>                                                                                                                 <span style=\"color: #008000; text-decoration-color: #008000\">│</span>\n",
       "<span style=\"color: #008000; text-decoration-color: #008000\">│</span>  <span style=\"color: #008000; text-decoration-color: #008000; font-weight: bold\">Task Completed</span>                                                                                                 <span style=\"color: #008000; text-decoration-color: #008000\">│</span>\n",
       "<span style=\"color: #008000; text-decoration-color: #008000\">│</span>  <span style=\"color: #c0c0c0; text-decoration-color: #c0c0c0\">Name: </span><span style=\"color: #008000; text-decoration-color: #008000\">e20b9a6f-b6d1-49df-a67c-c920ee69677a</span>                                                                     <span style=\"color: #008000; text-decoration-color: #008000\">│</span>\n",
       "<span style=\"color: #008000; text-decoration-color: #008000\">│</span>  <span style=\"color: #c0c0c0; text-decoration-color: #c0c0c0\">Agent: </span><span style=\"color: #008000; text-decoration-color: #008000\">RAI Deep Dive Specialist</span>                                                                                <span style=\"color: #008000; text-decoration-color: #008000\">│</span>\n",
       "<span style=\"color: #008000; text-decoration-color: #008000\">│</span>                                                                                                                 <span style=\"color: #008000; text-decoration-color: #008000\">│</span>\n",
       "<span style=\"color: #008000; text-decoration-color: #008000\">│</span>                                                                                                                 <span style=\"color: #008000; text-decoration-color: #008000\">│</span>\n",
       "<span style=\"color: #008000; text-decoration-color: #008000\">╰─────────────────────────────────────────────────────────────────────────────────────────────────────────────────╯</span>\n",
       "</pre>\n"
      ],
      "text/plain": [
       "\u001b[32m╭─\u001b[0m\u001b[32m───────────────────────────────────────────────\u001b[0m\u001b[32m Task Completion \u001b[0m\u001b[32m───────────────────────────────────────────────\u001b[0m\u001b[32m─╮\u001b[0m\n",
       "\u001b[32m│\u001b[0m                                                                                                                 \u001b[32m│\u001b[0m\n",
       "\u001b[32m│\u001b[0m  \u001b[1;32mTask Completed\u001b[0m                                                                                                 \u001b[32m│\u001b[0m\n",
       "\u001b[32m│\u001b[0m  \u001b[37mName: \u001b[0m\u001b[32me20b9a6f-b6d1-49df-a67c-c920ee69677a\u001b[0m                                                                     \u001b[32m│\u001b[0m\n",
       "\u001b[32m│\u001b[0m  \u001b[37mAgent: \u001b[0m\u001b[32mRAI Deep Dive Specialist\u001b[0m                                                                                \u001b[32m│\u001b[0m\n",
       "\u001b[32m│\u001b[0m                                                                                                                 \u001b[32m│\u001b[0m\n",
       "\u001b[32m│\u001b[0m                                                                                                                 \u001b[32m│\u001b[0m\n",
       "\u001b[32m╰─────────────────────────────────────────────────────────────────────────────────────────────────────────────────╯\u001b[0m\n"
      ]
     },
     "metadata": {},
     "output_type": "display_data"
    },
    {
     "data": {
      "text/html": [
       "<pre style=\"white-space:pre;overflow-x:auto;line-height:normal;font-family:Menlo,'DejaVu Sans Mono',consolas,'Courier New',monospace\">\n",
       "</pre>\n"
      ],
      "text/plain": [
       "\n"
      ]
     },
     "metadata": {},
     "output_type": "display_data"
    },
    {
     "data": {
      "text/html": [
       "<pre style=\"white-space:pre;overflow-x:auto;line-height:normal;font-family:Menlo,'DejaVu Sans Mono',consolas,'Courier New',monospace\">/Users/pengqili/anaconda3/envs/cse/lib/python3.11/site-packages/chromadb/types.py:144: PydanticDeprecatedSince211: \n",
       "Accessing the 'model_fields' attribute on the instance is deprecated. Instead, you should access this attribute \n",
       "from the model class. Deprecated in Pydantic V2.11 to be removed in V3.0.\n",
       "  return self.model_fields  # pydantic 2.x\n",
       "</pre>\n"
      ],
      "text/plain": [
       "/Users/pengqili/anaconda3/envs/cse/lib/python3.11/site-packages/chromadb/types.py:144: PydanticDeprecatedSince211: \n",
       "Accessing the 'model_fields' attribute on the instance is deprecated. Instead, you should access this attribute \n",
       "from the model class. Deprecated in Pydantic V2.11 to be removed in V3.0.\n",
       "  return self.model_fields  # pydantic 2.x\n"
      ]
     },
     "metadata": {},
     "output_type": "display_data"
    },
    {
     "data": {
      "text/html": [
       "<pre style=\"white-space:pre;overflow-x:auto;line-height:normal;font-family:Menlo,'DejaVu Sans Mono',consolas,'Courier New',monospace\">/Users/pengqili/anaconda3/envs/cse/lib/python3.11/site-packages/chromadb/types.py:144: PydanticDeprecatedSince211: \n",
       "Accessing the 'model_fields' attribute on the instance is deprecated. Instead, you should access this attribute \n",
       "from the model class. Deprecated in Pydantic V2.11 to be removed in V3.0.\n",
       "  return self.model_fields  # pydantic 2.x\n",
       "</pre>\n"
      ],
      "text/plain": [
       "/Users/pengqili/anaconda3/envs/cse/lib/python3.11/site-packages/chromadb/types.py:144: PydanticDeprecatedSince211: \n",
       "Accessing the 'model_fields' attribute on the instance is deprecated. Instead, you should access this attribute \n",
       "from the model class. Deprecated in Pydantic V2.11 to be removed in V3.0.\n",
       "  return self.model_fields  # pydantic 2.x\n"
      ]
     },
     "metadata": {},
     "output_type": "display_data"
    },
    {
     "data": {
      "text/html": [
       "<pre style=\"white-space:pre;overflow-x:auto;line-height:normal;font-family:Menlo,'DejaVu Sans Mono',consolas,'Courier New',monospace\">/Users/pengqili/anaconda3/envs/cse/lib/python3.11/site-packages/chromadb/types.py:144: PydanticDeprecatedSince211: \n",
       "Accessing the 'model_fields' attribute on the instance is deprecated. Instead, you should access this attribute \n",
       "from the model class. Deprecated in Pydantic V2.11 to be removed in V3.0.\n",
       "  return self.model_fields  # pydantic 2.x\n",
       "</pre>\n"
      ],
      "text/plain": [
       "/Users/pengqili/anaconda3/envs/cse/lib/python3.11/site-packages/chromadb/types.py:144: PydanticDeprecatedSince211: \n",
       "Accessing the 'model_fields' attribute on the instance is deprecated. Instead, you should access this attribute \n",
       "from the model class. Deprecated in Pydantic V2.11 to be removed in V3.0.\n",
       "  return self.model_fields  # pydantic 2.x\n"
      ]
     },
     "metadata": {},
     "output_type": "display_data"
    },
    {
     "data": {
      "text/html": [
       "<pre style=\"white-space:pre;overflow-x:auto;line-height:normal;font-family:Menlo,'DejaVu Sans Mono',consolas,'Courier New',monospace\">/Users/pengqili/anaconda3/envs/cse/lib/python3.11/site-packages/chromadb/types.py:144: PydanticDeprecatedSince211: \n",
       "Accessing the 'model_fields' attribute on the instance is deprecated. Instead, you should access this attribute \n",
       "from the model class. Deprecated in Pydantic V2.11 to be removed in V3.0.\n",
       "  return self.model_fields  # pydantic 2.x\n",
       "</pre>\n"
      ],
      "text/plain": [
       "/Users/pengqili/anaconda3/envs/cse/lib/python3.11/site-packages/chromadb/types.py:144: PydanticDeprecatedSince211: \n",
       "Accessing the 'model_fields' attribute on the instance is deprecated. Instead, you should access this attribute \n",
       "from the model class. Deprecated in Pydantic V2.11 to be removed in V3.0.\n",
       "  return self.model_fields  # pydantic 2.x\n"
      ]
     },
     "metadata": {},
     "output_type": "display_data"
    },
    {
     "data": {
      "text/html": [
       "<pre style=\"white-space:pre;overflow-x:auto;line-height:normal;font-family:Menlo,'DejaVu Sans Mono',consolas,'Courier New',monospace\">/Users/pengqili/anaconda3/envs/cse/lib/python3.11/site-packages/chromadb/types.py:144: PydanticDeprecatedSince211: \n",
       "Accessing the 'model_fields' attribute on the instance is deprecated. Instead, you should access this attribute \n",
       "from the model class. Deprecated in Pydantic V2.11 to be removed in V3.0.\n",
       "  return self.model_fields  # pydantic 2.x\n",
       "</pre>\n"
      ],
      "text/plain": [
       "/Users/pengqili/anaconda3/envs/cse/lib/python3.11/site-packages/chromadb/types.py:144: PydanticDeprecatedSince211: \n",
       "Accessing the 'model_fields' attribute on the instance is deprecated. Instead, you should access this attribute \n",
       "from the model class. Deprecated in Pydantic V2.11 to be removed in V3.0.\n",
       "  return self.model_fields  # pydantic 2.x\n"
      ]
     },
     "metadata": {},
     "output_type": "display_data"
    },
    {
     "data": {
      "text/html": [
       "<pre style=\"white-space:pre;overflow-x:auto;line-height:normal;font-family:Menlo,'DejaVu Sans Mono',consolas,'Courier New',monospace\"></pre>\n"
      ],
      "text/plain": []
     },
     "metadata": {},
     "output_type": "display_data"
    },
    {
     "data": {
      "text/html": [
       "<pre style=\"white-space:pre;overflow-x:auto;line-height:normal;font-family:Menlo,'DejaVu Sans Mono',consolas,'Courier New',monospace\"><span style=\"color: #008000; text-decoration-color: #008000\">╭──────────────────────────────────────────────── Task Completion ────────────────────────────────────────────────╮</span>\n",
       "<span style=\"color: #008000; text-decoration-color: #008000\">│</span>                                                                                                                 <span style=\"color: #008000; text-decoration-color: #008000\">│</span>\n",
       "<span style=\"color: #008000; text-decoration-color: #008000\">│</span>  <span style=\"color: #008000; text-decoration-color: #008000; font-weight: bold\">Task Completed</span>                                                                                                 <span style=\"color: #008000; text-decoration-color: #008000\">│</span>\n",
       "<span style=\"color: #008000; text-decoration-color: #008000\">│</span>  <span style=\"color: #c0c0c0; text-decoration-color: #c0c0c0\">Name: </span><span style=\"color: #008000; text-decoration-color: #008000\">e0dcca16-89c0-4826-b51c-e8935dc593b7</span>                                                                     <span style=\"color: #008000; text-decoration-color: #008000\">│</span>\n",
       "<span style=\"color: #008000; text-decoration-color: #008000\">│</span>  <span style=\"color: #c0c0c0; text-decoration-color: #c0c0c0\">Agent: </span><span style=\"color: #008000; text-decoration-color: #008000\">ESG Quality Assurance Analyst</span>                                                                           <span style=\"color: #008000; text-decoration-color: #008000\">│</span>\n",
       "<span style=\"color: #008000; text-decoration-color: #008000\">│</span>                                                                                                                 <span style=\"color: #008000; text-decoration-color: #008000\">│</span>\n",
       "<span style=\"color: #008000; text-decoration-color: #008000\">│</span>                                                                                                                 <span style=\"color: #008000; text-decoration-color: #008000\">│</span>\n",
       "<span style=\"color: #008000; text-decoration-color: #008000\">╰─────────────────────────────────────────────────────────────────────────────────────────────────────────────────╯</span>\n",
       "</pre>\n"
      ],
      "text/plain": [
       "\u001b[32m╭─\u001b[0m\u001b[32m───────────────────────────────────────────────\u001b[0m\u001b[32m Task Completion \u001b[0m\u001b[32m───────────────────────────────────────────────\u001b[0m\u001b[32m─╮\u001b[0m\n",
       "\u001b[32m│\u001b[0m                                                                                                                 \u001b[32m│\u001b[0m\n",
       "\u001b[32m│\u001b[0m  \u001b[1;32mTask Completed\u001b[0m                                                                                                 \u001b[32m│\u001b[0m\n",
       "\u001b[32m│\u001b[0m  \u001b[37mName: \u001b[0m\u001b[32me0dcca16-89c0-4826-b51c-e8935dc593b7\u001b[0m                                                                     \u001b[32m│\u001b[0m\n",
       "\u001b[32m│\u001b[0m  \u001b[37mAgent: \u001b[0m\u001b[32mESG Quality Assurance Analyst\u001b[0m                                                                           \u001b[32m│\u001b[0m\n",
       "\u001b[32m│\u001b[0m                                                                                                                 \u001b[32m│\u001b[0m\n",
       "\u001b[32m│\u001b[0m                                                                                                                 \u001b[32m│\u001b[0m\n",
       "\u001b[32m╰─────────────────────────────────────────────────────────────────────────────────────────────────────────────────╯\u001b[0m\n"
      ]
     },
     "metadata": {},
     "output_type": "display_data"
    },
    {
     "data": {
      "text/html": [
       "<pre style=\"white-space:pre;overflow-x:auto;line-height:normal;font-family:Menlo,'DejaVu Sans Mono',consolas,'Courier New',monospace\">\n",
       "</pre>\n"
      ],
      "text/plain": [
       "\n"
      ]
     },
     "metadata": {},
     "output_type": "display_data"
    },
    {
     "data": {
      "text/html": [
       "<pre style=\"white-space:pre;overflow-x:auto;line-height:normal;font-family:Menlo,'DejaVu Sans Mono',consolas,'Courier New',monospace\"><span style=\"color: #008000; text-decoration-color: #008000\">╭──────────────────────────────────────────────── Crew Completion ────────────────────────────────────────────────╮</span>\n",
       "<span style=\"color: #008000; text-decoration-color: #008000\">│</span>                                                                                                                 <span style=\"color: #008000; text-decoration-color: #008000\">│</span>\n",
       "<span style=\"color: #008000; text-decoration-color: #008000\">│</span>  <span style=\"color: #008000; text-decoration-color: #008000; font-weight: bold\">Crew Execution Completed</span>                                                                                       <span style=\"color: #008000; text-decoration-color: #008000\">│</span>\n",
       "<span style=\"color: #008000; text-decoration-color: #008000\">│</span>  <span style=\"color: #c0c0c0; text-decoration-color: #c0c0c0\">Name: </span><span style=\"color: #008000; text-decoration-color: #008000\">crew</span>                                                                                                     <span style=\"color: #008000; text-decoration-color: #008000\">│</span>\n",
       "<span style=\"color: #008000; text-decoration-color: #008000\">│</span>  <span style=\"color: #c0c0c0; text-decoration-color: #c0c0c0\">ID: </span><span style=\"color: #008000; text-decoration-color: #008000\">cb69f052-056f-4243-99b3-e524ac034e7d</span>                                                                       <span style=\"color: #008000; text-decoration-color: #008000\">│</span>\n",
       "<span style=\"color: #008000; text-decoration-color: #008000\">│</span>                                                                                                                 <span style=\"color: #008000; text-decoration-color: #008000\">│</span>\n",
       "<span style=\"color: #008000; text-decoration-color: #008000\">│</span>                                                                                                                 <span style=\"color: #008000; text-decoration-color: #008000\">│</span>\n",
       "<span style=\"color: #008000; text-decoration-color: #008000\">╰─────────────────────────────────────────────────────────────────────────────────────────────────────────────────╯</span>\n",
       "</pre>\n"
      ],
      "text/plain": [
       "\u001b[32m╭─\u001b[0m\u001b[32m───────────────────────────────────────────────\u001b[0m\u001b[32m Crew Completion \u001b[0m\u001b[32m───────────────────────────────────────────────\u001b[0m\u001b[32m─╮\u001b[0m\n",
       "\u001b[32m│\u001b[0m                                                                                                                 \u001b[32m│\u001b[0m\n",
       "\u001b[32m│\u001b[0m  \u001b[1;32mCrew Execution Completed\u001b[0m                                                                                       \u001b[32m│\u001b[0m\n",
       "\u001b[32m│\u001b[0m  \u001b[37mName: \u001b[0m\u001b[32mcrew\u001b[0m                                                                                                     \u001b[32m│\u001b[0m\n",
       "\u001b[32m│\u001b[0m  \u001b[37mID: \u001b[0m\u001b[32mcb69f052-056f-4243-99b3-e524ac034e7d\u001b[0m                                                                       \u001b[32m│\u001b[0m\n",
       "\u001b[32m│\u001b[0m                                                                                                                 \u001b[32m│\u001b[0m\n",
       "\u001b[32m│\u001b[0m                                                                                                                 \u001b[32m│\u001b[0m\n",
       "\u001b[32m╰─────────────────────────────────────────────────────────────────────────────────────────────────────────────────╯\u001b[0m\n"
      ]
     },
     "metadata": {},
     "output_type": "display_data"
    },
    {
     "data": {
      "text/html": [
       "<pre style=\"white-space:pre;overflow-x:auto;line-height:normal;font-family:Menlo,'DejaVu Sans Mono',consolas,'Courier New',monospace\">\n",
       "</pre>\n"
      ],
      "text/plain": [
       "\n"
      ]
     },
     "metadata": {},
     "output_type": "display_data"
    }
   ],
   "source": [
    "inputs = {\n",
    "    \"company\": \"Microsoft\",\n",
    "    \"year\": \"2025\",\n",
    "    \"objective\": \"Evaluate the ESG performance of Microsoft Inc. for investment decision-making in 2025.\",\n",
    "    \"request\": \"Provide a complete ESG evaluation including environmental, social, and governance factors. \"\n",
    "               \"Use the official ESG guidance definitions and offer detailed ratings and analysis.\"\n",
    "}\n",
    "\n",
    "esg_crew.verbose = False\n",
    "for task in esg_crew.tasks:\n",
    "    task.agent.verbose = False\n",
    "\n",
    "result = esg_crew.kickoff(inputs=inputs)"
   ]
  },
  {
   "cell_type": "code",
   "execution_count": 23,
   "id": "48bb697c-8689-4eee-84df-a4ce1c111d99",
   "metadata": {},
   "outputs": [
    {
     "data": {
      "text/markdown": [
       "---\n",
       "\n",
       "**Quality Assurance Review and Finalized ESG/RAI Evaluation Report for Microsoft AI Sustainability Use Cases**\n",
       "\n",
       "---\n",
       "\n",
       "### Materiality Assessment Overview\n",
       "\n",
       "Microsoft’s AI use cases in sustainability demonstrate a predominantly positive environmental impact focused on carbon emissions reduction, resource efficiency improvements, and ecosystem monitoring. Social impacts such as diversity, equity, inclusion, human rights, labor management, and health and safety are assessed as neutral with data privacy and cybersecurity rated medium risk due to inherent challenges in managing sensitive datasets.\n",
       "\n",
       "**Risk Classification:** Medium Risk\n",
       "\n",
       "**Key Environmental and Social Impacts:**\n",
       "\n",
       "| Impact Dimension                 | Assessment                          |\n",
       "|---------------------------------|-----------------------------------|\n",
       "| Carbon Emissions                | Positive                          |\n",
       "| Resource Efficiency             | Positive                          |\n",
       "| Ecosystem Impact                | Positive                          |\n",
       "| Diversity, Equity, and Inclusion| Neutral                          |\n",
       "| Human Rights                   | Neutral                          |\n",
       "| Labour Management              | Neutral                          |\n",
       "| Customer and Community         | Positive                         |\n",
       "| Data Privacy and Cybersecurity  | Medium Risk                       |\n",
       "| Health and Safety              | Neutral                          |\n",
       "\n",
       "Narratives are comprehensive, clear, and appropriately reference Microsoft’s initiatives such as energy optimization AI models, water management solutions, and biodiversity monitoring tools. The impact scope evaluation correctly identifies both industry-specific and systemic influences via policy frameworks and collaborations.\n",
       "\n",
       "---\n",
       "\n",
       "### Responsible AI (RAI) Governance Assessment\n",
       "\n",
       "A detailed table evaluating 10 ESG-aligned indicators and a deep dive AI ethics principles assessment both corroborate a strong commitment and capable implementation of responsible AI governance at Microsoft, albeit with identified gaps.\n",
       "\n",
       "| Indicator                          | Addressed (Yes/No/Partial) | Summary of Evidence                                                                               |\n",
       "|----------------------------------|----------------------------|-------------------------------------------------------------------------------------------------|\n",
       "| Board oversight                  | No                         | No explicit mention of board-level accountable oversight for RAI governance in the report (pp. 62-77). |\n",
       "| RAI policy commitment           | Yes                        | Clear commitment via principles embedded in Azure Well-Architected Framework and policy engagements (pp. 62-64). |\n",
       "| Ethical principles for AI       | Yes                        | References to fairness, reliability, resource efficiency, and security within RAI frameworks (pp. 62-64). |\n",
       "| Risk mitigation and compliance  | Yes                        | Proactive addressing of regulatory, data privacy, and cybersecurity risks (pp. 62-64, 77).     |\n",
       "| AI sustainability practices     | Yes                        | Development of green software tools and participation in AI sustainability standards initiatives (pp. 62-64). |\n",
       "| Integration in product lifecycle| Yes                        | AI governance embedded in development lifecycle as per Azure Well-Architected Framework (pp. 62-64). |\n",
       "| Stakeholder engagement          | Yes                        | Engagement with policymakers, global institutions, and communities to promote responsible AI (pp. 64, 77). |\n",
       "| Transparency and reporting      | Partial                    | Environmental reporting strong; RAI-specific KPIs and ethics metrics disclosure limited (pp. 62-78).  |\n",
       "| Monitoring and audit processes  | No                         | No explicit ongoing RAI audit, monitoring, or assurance found in disclosures.                    |\n",
       "| Performance benchmarks          | Partial                    | Some AI performance references; lack of RAI benchmarking aligned with standards (pp. 62-78).     |\n",
       "\n",
       "**Total Responsible AI Governance Score: 7 out of 10**\n",
       "\n",
       "---\n",
       "\n",
       "### RAI Deep Dive Assessment Scores (0-5 Scale)\n",
       "\n",
       "| AI Ethics Principle             | Score | Notes                                                                                         |\n",
       "|--------------------------------|-------|-----------------------------------------------------------------------------------------------|\n",
       "| Board Oversight                | 1     | Broad sustainability oversight present; no dedicated, transparent board RAI governance.       |\n",
       "| RAI Policy Commitment          | 4     | Strong ethical principle articulation and policy alignment with sustainability.               |\n",
       "| RAI Implementation            | 4.3   | Robust lifecycle integration, clear risk mitigation, and positive adoption of green AI practices. |\n",
       "| Stakeholder Engagement         | 4     | Active collaboration with policymakers and communities.                                      |\n",
       "| Transparency and Reporting     | 2.5   | Limited RAI-specific metrics; good environmental disclosures but incomplete AI ethics reporting. |\n",
       "| Monitoring and Audit           | 1     | Lack of explicit RAI governance monitoring or third-party assurance mechanisms.               |\n",
       "\n",
       "---\n",
       "\n",
       "### QA Comments and Areas for Improvement\n",
       "\n",
       "1. **Board Oversight Gap**  \n",
       "   The absence of explicit, formal board-level oversight and accountability for Responsible AI governance represents a material gap relative to best practice ESG frameworks. Enhanced board engagement with structured RAI governance responsibilities is recommended.\n",
       "\n",
       "2. **Transparency and Metrics**  \n",
       "   While the report offers extensive environmental impact data, RAI ethics performance disclosure remains partial. Microsoft should develop and publicly disclose standardized KPIs, benchmarks, and performance metrics aligned with AI ethics frameworks and sustainability standards to improve transparency and stakeholder assurance.\n",
       "\n",
       "3. **Monitoring, Audit, and Assurance**  \n",
       "   There is no explicit evidence of ongoing monitoring, auditing, or third-party assurance focused on Responsible AI governance. Establishing such processes would demonstrate governance maturity and regulatory readiness.\n",
       "\n",
       "4. **RAI Social Impact Disclosure**  \n",
       "   Areas such as Diversity, Equity, Inclusion (DEI), human rights, and labor management are currently assessed as neutral with minimal discussion. Expanding disclosures to address AI’s broader social impacts would help provide a more holistic ESG assessment.\n",
       "\n",
       "---\n",
       "\n",
       "### Recommendations for Future Analysis and Disclosure\n",
       "\n",
       "- Formalize RAI board oversight structures with clear accountability and reporting lines.\n",
       "- Develop and publish detailed RAI governance KPIs and sustainability-aligned AI ethics benchmarks.\n",
       "- Institute ongoing RAI governance monitoring and independent audit or assurance processes.\n",
       "- Enhance social impact disclosures related to AI, focusing on DEI and human rights considerations.\n",
       "- Sustain stakeholder dialogue across technical teams, policy makers, and communities to anticipate evolving regulatory landscapes and societal expectations.\n",
       "\n",
       "---\n",
       "\n",
       "### Final Conclusion\n",
       "\n",
       "Microsoft’s AI sustainability use cases contribute positively to climate and environmental goals with a solid Responsible AI governance framework embedded across policies and operations. Regulatory and data privacy risks are recognized and actively managed, supporting a balanced medium risk classification. The RAI maturity profile evidences strong governance in committed principles, lifecycle integration, and stakeholder engagement tempered by governance oversight and transparency gaps.\n",
       "\n",
       "This evaluation supports an informed ESG investment stance endorsing Microsoft’s leadership in sustainable AI, while prudently highlighting areas for governance enhancement and disclosure advancement.\n",
       "\n",
       "---\n",
       "\n",
       "### References\n",
       "\n",
       "All page numbers and source material are drawn exclusively from the *2025 Microsoft Environmental Sustainability Report* (pp. 62–81), focusing on AI governance, sustainability performance, risk management, and disclosure sections.\n",
       "\n",
       "---\n",
       "\n",
       "This completes the quality assurance review, ensuring the Microsoft ESG and Responsible AI analysis report for 2025 meets highest standards of accuracy, clarity, completeness, and alignment with the official guidance."
      ],
      "text/plain": [
       "<IPython.core.display.Markdown object>"
      ]
     },
     "execution_count": 23,
     "metadata": {},
     "output_type": "execute_result"
    }
   ],
   "source": [
    "from IPython.display import Markdown\n",
    "\n",
    "Markdown(result.raw)"
   ]
  },
  {
   "cell_type": "code",
   "execution_count": null,
   "id": "1d4a7405-0a3a-4109-a3ac-474dc96561fe",
   "metadata": {},
   "outputs": [],
   "source": []
  }
 ],
 "metadata": {
  "kernelspec": {
   "display_name": "Python 3 (ipykernel)",
   "language": "python",
   "name": "python3"
  },
  "language_info": {
   "codemirror_mode": {
    "name": "ipython",
    "version": 3
   },
   "file_extension": ".py",
   "mimetype": "text/x-python",
   "name": "python",
   "nbconvert_exporter": "python",
   "pygments_lexer": "ipython3",
   "version": "3.11.2"
  }
 },
 "nbformat": 4,
 "nbformat_minor": 5
}
